{
 "cells": [
  {
   "cell_type": "code",
   "execution_count": 22,
   "id": "b5e2be52-a0e6-4431-8eb4-798df03800e3",
   "metadata": {},
   "outputs": [],
   "source": [
    "import pandas as pd\n",
    "from collections import Counter\n",
    "import re\n",
    "import numpy as np\n",
    "from sklearn.utils import shuffle\n",
    "from sklearn.feature_extraction.text import TfidfVectorizer\n",
    "#from sklearn.feature_extraction.stop_words import ENGLISH_STOP_WORDS\n",
    "from sklearn.metrics import f1_score, accuracy_score \n",
    "import matplotlib.pyplot as plt\n",
    "from sklearn.ensemble import RandomForestClassifier\n",
    "\n",
    "get_ipython().run_line_magic('matplotlib', 'inline')\n",
    "get_ipython().run_line_magic('config', \"InlineBackend.figure_format = 'retina'\")\n",
    "\n"
   ]
  },
  {
   "cell_type": "code",
   "execution_count": 23,
   "id": "99cc5fa2-64fb-494f-bf20-706176b3663e",
   "metadata": {},
   "outputs": [
    {
     "data": {
      "text/plain": [
       "Index(['Unnamed: 0', 'Headline', 'Content', 'fakeness'], dtype='object')"
      ]
     },
     "execution_count": 23,
     "metadata": {},
     "output_type": "execute_result"
    }
   ],
   "source": [
    "import sys\n",
    "import csv\n",
    "\n",
    "df_guard = pd.read_csv(r\"C:\\SUDHARSHAN\\Daksh\\tata\\finals\\legit_cleaned.csv\")\n",
    "\n",
    "df_guard.columns\n"
   ]
  },
  {
   "cell_type": "code",
   "execution_count": 24,
   "id": "cec12296-d60f-41ea-a5c0-e47fe49e41fd",
   "metadata": {},
   "outputs": [
    {
     "data": {
      "text/html": [
       "<div>\n",
       "<style scoped>\n",
       "    .dataframe tbody tr th:only-of-type {\n",
       "        vertical-align: middle;\n",
       "    }\n",
       "\n",
       "    .dataframe tbody tr th {\n",
       "        vertical-align: top;\n",
       "    }\n",
       "\n",
       "    .dataframe thead th {\n",
       "        text-align: right;\n",
       "    }\n",
       "</style>\n",
       "<table border=\"1\" class=\"dataframe\">\n",
       "  <thead>\n",
       "    <tr style=\"text-align: right;\">\n",
       "      <th></th>\n",
       "      <th>headlines</th>\n",
       "      <th>content</th>\n",
       "      <th>fakeness</th>\n",
       "    </tr>\n",
       "  </thead>\n",
       "  <tbody>\n",
       "    <tr>\n",
       "      <th>0</th>\n",
       "      <td>Sudha Murty in Rajya Sabha: Who are the other ...</td>\n",
       "      <td>The philanthropist and former Infosys Foundati...</td>\n",
       "      <td>0</td>\n",
       "    </tr>\n",
       "    <tr>\n",
       "      <th>1</th>\n",
       "      <td>Major takeaways from Congress first list for L...</td>\n",
       "      <td>Congress insiders say Rahul Gandhi, who has be...</td>\n",
       "      <td>0</td>\n",
       "    </tr>\n",
       "    <tr>\n",
       "      <th>2</th>\n",
       "      <td>BJP-TDP on the cusp of a poll deal, announceme...</td>\n",
       "      <td>Chandrababu Naidu, Pawan Kalyan to meet Amit S...</td>\n",
       "      <td>0</td>\n",
       "    </tr>\n",
       "    <tr>\n",
       "      <th>3</th>\n",
       "      <td>Battleground Azamgarh: To retain Akhilesh’s fo...</td>\n",
       "      <td>As SP looks to wrest control of its former str...</td>\n",
       "      <td>0</td>\n",
       "    </tr>\n",
       "    <tr>\n",
       "      <th>4</th>\n",
       "      <td>As PM Modi announces another LPG price cut, wh...</td>\n",
       "      <td>The reduction of Rs 100 per cylinder comes jus...</td>\n",
       "      <td>0</td>\n",
       "    </tr>\n",
       "  </tbody>\n",
       "</table>\n",
       "</div>"
      ],
      "text/plain": [
       "                                           headlines  \\\n",
       "0  Sudha Murty in Rajya Sabha: Who are the other ...   \n",
       "1  Major takeaways from Congress first list for L...   \n",
       "2  BJP-TDP on the cusp of a poll deal, announceme...   \n",
       "3  Battleground Azamgarh: To retain Akhilesh’s fo...   \n",
       "4  As PM Modi announces another LPG price cut, wh...   \n",
       "\n",
       "                                             content  fakeness  \n",
       "0  The philanthropist and former Infosys Foundati...         0  \n",
       "1  Congress insiders say Rahul Gandhi, who has be...         0  \n",
       "2  Chandrababu Naidu, Pawan Kalyan to meet Amit S...         0  \n",
       "3  As SP looks to wrest control of its former str...         0  \n",
       "4  The reduction of Rs 100 per cylinder comes jus...         0  "
      ]
     },
     "execution_count": 24,
     "metadata": {},
     "output_type": "execute_result"
    }
   ],
   "source": [
    "df_guard.drop(['Unnamed: 0'], inplace=True , axis=1)\n",
    "df_guard.rename(columns={'Headline': 'headlines', 'Content': 'content', 'fakeness': 'fakeness'}, inplace=True)\n",
    "\n",
    "df_guard.head()"
   ]
  },
  {
   "cell_type": "code",
   "execution_count": 25,
   "id": "f6d60f5a-d3a8-4e6a-b9c3-18a613e8fd75",
   "metadata": {},
   "outputs": [
    {
     "data": {
      "text/plain": [
       "Index(['Unnamed: 0', 'headlines', 'content', 'fakeness'], dtype='object')"
      ]
     },
     "execution_count": 25,
     "metadata": {},
     "output_type": "execute_result"
    }
   ],
   "source": [
    "\n",
    "df_kaggle = pd.read_csv(r\"C:\\SUDHARSHAN\\Daksh\\tata\\finals\\fake_cleaned.csv\")\n",
    "\n",
    "df_kaggle.columns\n"
   ]
  },
  {
   "cell_type": "code",
   "execution_count": 26,
   "id": "7ac99e13-2b70-4579-9faa-a58289e51f6a",
   "metadata": {},
   "outputs": [
    {
     "data": {
      "text/html": [
       "<div>\n",
       "<style scoped>\n",
       "    .dataframe tbody tr th:only-of-type {\n",
       "        vertical-align: middle;\n",
       "    }\n",
       "\n",
       "    .dataframe tbody tr th {\n",
       "        vertical-align: top;\n",
       "    }\n",
       "\n",
       "    .dataframe thead th {\n",
       "        text-align: right;\n",
       "    }\n",
       "</style>\n",
       "<table border=\"1\" class=\"dataframe\">\n",
       "  <thead>\n",
       "    <tr style=\"text-align: right;\">\n",
       "      <th></th>\n",
       "      <th>headlines</th>\n",
       "      <th>content</th>\n",
       "      <th>fakeness</th>\n",
       "    </tr>\n",
       "  </thead>\n",
       "  <tbody>\n",
       "    <tr>\n",
       "      <th>0</th>\n",
       "      <td>BREAKING: Alien Spaceship Spotted Over Delhi, ...</td>\n",
       "      <td>Eyewitnesses claim to have seen a massive UFO ...</td>\n",
       "      <td>1</td>\n",
       "    </tr>\n",
       "    <tr>\n",
       "      <th>1</th>\n",
       "      <td>Controversy Erupts as AI Becomes 12th Nominate...</td>\n",
       "      <td>Outrage ensues as rumors of an artificial inte...</td>\n",
       "      <td>1</td>\n",
       "    </tr>\n",
       "    <tr>\n",
       "      <th>2</th>\n",
       "      <td>BJP Announces Partnership with Time Travelers,...</td>\n",
       "      <td>In a surprising move, BJP leaders reveal plans...</td>\n",
       "      <td>1</td>\n",
       "    </tr>\n",
       "    <tr>\n",
       "      <th>3</th>\n",
       "      <td>Congress Unveils Plan for Underwater Parliamen...</td>\n",
       "      <td>Amid environmental concerns, Congress proposes...</td>\n",
       "      <td>1</td>\n",
       "    </tr>\n",
       "    <tr>\n",
       "      <th>4</th>\n",
       "      <td>Mumbai Man Claims to Have Invented Perpetual M...</td>\n",
       "      <td>Local inventor insists his perpetual motion ma...</td>\n",
       "      <td>1</td>\n",
       "    </tr>\n",
       "  </tbody>\n",
       "</table>\n",
       "</div>"
      ],
      "text/plain": [
       "                                           headlines  \\\n",
       "0  BREAKING: Alien Spaceship Spotted Over Delhi, ...   \n",
       "1  Controversy Erupts as AI Becomes 12th Nominate...   \n",
       "2  BJP Announces Partnership with Time Travelers,...   \n",
       "3  Congress Unveils Plan for Underwater Parliamen...   \n",
       "4  Mumbai Man Claims to Have Invented Perpetual M...   \n",
       "\n",
       "                                             content  fakeness  \n",
       "0  Eyewitnesses claim to have seen a massive UFO ...         1  \n",
       "1  Outrage ensues as rumors of an artificial inte...         1  \n",
       "2  In a surprising move, BJP leaders reveal plans...         1  \n",
       "3  Amid environmental concerns, Congress proposes...         1  \n",
       "4  Local inventor insists his perpetual motion ma...         1  "
      ]
     },
     "execution_count": 26,
     "metadata": {},
     "output_type": "execute_result"
    }
   ],
   "source": [
    "df_kaggle.drop(['Unnamed: 0'], inplace=True , axis=1)\n",
    "\n",
    "df_kaggle.head()"
   ]
  },
  {
   "cell_type": "code",
   "execution_count": 27,
   "id": "fc51f4d6-14de-4d5f-8c53-e3963d1a52ed",
   "metadata": {},
   "outputs": [
    {
     "name": "stdout",
     "output_type": "stream",
     "text": [
      "\n",
      "Combined DataFrame shape:\n",
      "(8000, 3)\n"
     ]
    }
   ],
   "source": [
    "combined_df = pd.concat([df_guard, df_kaggle], ignore_index=True)\n",
    "\n",
    "# Check the combined DataFrame\n",
    "print(\"\\nCombined DataFrame shape:\")\n",
    "print(combined_df.shape)\n"
   ]
  },
  {
   "cell_type": "code",
   "execution_count": 28,
   "id": "211ff804-4c39-4b1f-930f-6c273d171546",
   "metadata": {},
   "outputs": [
    {
     "name": "stdout",
     "output_type": "stream",
     "text": [
      "\n",
      "First few rows of the combined DataFrame:\n"
     ]
    },
    {
     "data": {
      "text/html": [
       "<div>\n",
       "<style scoped>\n",
       "    .dataframe tbody tr th:only-of-type {\n",
       "        vertical-align: middle;\n",
       "    }\n",
       "\n",
       "    .dataframe tbody tr th {\n",
       "        vertical-align: top;\n",
       "    }\n",
       "\n",
       "    .dataframe thead th {\n",
       "        text-align: right;\n",
       "    }\n",
       "</style>\n",
       "<table border=\"1\" class=\"dataframe\">\n",
       "  <thead>\n",
       "    <tr style=\"text-align: right;\">\n",
       "      <th></th>\n",
       "      <th>headlines</th>\n",
       "      <th>content</th>\n",
       "      <th>fakeness</th>\n",
       "    </tr>\n",
       "  </thead>\n",
       "  <tbody>\n",
       "    <tr>\n",
       "      <th>0</th>\n",
       "      <td>Sudha Murty in Rajya Sabha: Who are the other ...</td>\n",
       "      <td>The philanthropist and former Infosys Foundati...</td>\n",
       "      <td>0</td>\n",
       "    </tr>\n",
       "    <tr>\n",
       "      <th>1</th>\n",
       "      <td>Major takeaways from Congress first list for L...</td>\n",
       "      <td>Congress insiders say Rahul Gandhi, who has be...</td>\n",
       "      <td>0</td>\n",
       "    </tr>\n",
       "    <tr>\n",
       "      <th>2</th>\n",
       "      <td>BJP-TDP on the cusp of a poll deal, announceme...</td>\n",
       "      <td>Chandrababu Naidu, Pawan Kalyan to meet Amit S...</td>\n",
       "      <td>0</td>\n",
       "    </tr>\n",
       "    <tr>\n",
       "      <th>3</th>\n",
       "      <td>Battleground Azamgarh: To retain Akhilesh’s fo...</td>\n",
       "      <td>As SP looks to wrest control of its former str...</td>\n",
       "      <td>0</td>\n",
       "    </tr>\n",
       "    <tr>\n",
       "      <th>4</th>\n",
       "      <td>As PM Modi announces another LPG price cut, wh...</td>\n",
       "      <td>The reduction of Rs 100 per cylinder comes jus...</td>\n",
       "      <td>0</td>\n",
       "    </tr>\n",
       "  </tbody>\n",
       "</table>\n",
       "</div>"
      ],
      "text/plain": [
       "                                           headlines  \\\n",
       "0  Sudha Murty in Rajya Sabha: Who are the other ...   \n",
       "1  Major takeaways from Congress first list for L...   \n",
       "2  BJP-TDP on the cusp of a poll deal, announceme...   \n",
       "3  Battleground Azamgarh: To retain Akhilesh’s fo...   \n",
       "4  As PM Modi announces another LPG price cut, wh...   \n",
       "\n",
       "                                             content  fakeness  \n",
       "0  The philanthropist and former Infosys Foundati...         0  \n",
       "1  Congress insiders say Rahul Gandhi, who has be...         0  \n",
       "2  Chandrababu Naidu, Pawan Kalyan to meet Amit S...         0  \n",
       "3  As SP looks to wrest control of its former str...         0  \n",
       "4  The reduction of Rs 100 per cylinder comes jus...         0  "
      ]
     },
     "execution_count": 28,
     "metadata": {},
     "output_type": "execute_result"
    }
   ],
   "source": [
    "appended_df = pd.concat([df_guard, df_kaggle], ignore_index=True)\n",
    "\n",
    "# To save the combined DataFrame to a new CSV file\n",
    "\n",
    "# To view the first few rows of the combined DataFrame\n",
    "print(\"\\nFirst few rows of the combined DataFrame:\")\n",
    "combined_df.head()"
   ]
  },
  {
   "cell_type": "code",
   "execution_count": 29,
   "id": "bcbca6e7-ee4b-4a88-afcc-272265bd414a",
   "metadata": {},
   "outputs": [
    {
     "data": {
      "text/html": [
       "<div>\n",
       "<style scoped>\n",
       "    .dataframe tbody tr th:only-of-type {\n",
       "        vertical-align: middle;\n",
       "    }\n",
       "\n",
       "    .dataframe tbody tr th {\n",
       "        vertical-align: top;\n",
       "    }\n",
       "\n",
       "    .dataframe thead th {\n",
       "        text-align: right;\n",
       "    }\n",
       "</style>\n",
       "<table border=\"1\" class=\"dataframe\">\n",
       "  <thead>\n",
       "    <tr style=\"text-align: right;\">\n",
       "      <th></th>\n",
       "      <th>headlines</th>\n",
       "      <th>content</th>\n",
       "      <th>fakeness</th>\n",
       "    </tr>\n",
       "  </thead>\n",
       "  <tbody>\n",
       "    <tr>\n",
       "      <th>7995</th>\n",
       "      <td>Mallikarjun Kharge's G-23 Controversy Resurfac...</td>\n",
       "      <td>Kharge faces renewed challenges as the G-23 co...</td>\n",
       "      <td>1</td>\n",
       "    </tr>\n",
       "    <tr>\n",
       "      <th>7996</th>\n",
       "      <td>INLD Candidate Switch: Congress Rebel Blames H...</td>\n",
       "      <td>Long-time Congress loyalist Kurdaram Nambardar...</td>\n",
       "      <td>1</td>\n",
       "    </tr>\n",
       "    <tr>\n",
       "      <th>7997</th>\n",
       "      <td>Sena Unity Crumbles: Uddhav and Shinde Faction...</td>\n",
       "      <td>Internal strife erupts within Shiv Sena as Udd...</td>\n",
       "      <td>1</td>\n",
       "    </tr>\n",
       "    <tr>\n",
       "      <th>7998</th>\n",
       "      <td>Voter Registration Order Stands: Jammu Electio...</td>\n",
       "      <td>Amidst widespread protests, the Jammu election...</td>\n",
       "      <td>1</td>\n",
       "    </tr>\n",
       "    <tr>\n",
       "      <th>7999</th>\n",
       "      <td>BJP's Himachal Push Questioned: Opposition Que...</td>\n",
       "      <td>As PM Modi makes his second visit to Himachal ...</td>\n",
       "      <td>1</td>\n",
       "    </tr>\n",
       "  </tbody>\n",
       "</table>\n",
       "</div>"
      ],
      "text/plain": [
       "                                              headlines  \\\n",
       "7995  Mallikarjun Kharge's G-23 Controversy Resurfac...   \n",
       "7996  INLD Candidate Switch: Congress Rebel Blames H...   \n",
       "7997  Sena Unity Crumbles: Uddhav and Shinde Faction...   \n",
       "7998  Voter Registration Order Stands: Jammu Electio...   \n",
       "7999  BJP's Himachal Push Questioned: Opposition Que...   \n",
       "\n",
       "                                                content  fakeness  \n",
       "7995  Kharge faces renewed challenges as the G-23 co...         1  \n",
       "7996  Long-time Congress loyalist Kurdaram Nambardar...         1  \n",
       "7997  Internal strife erupts within Shiv Sena as Udd...         1  \n",
       "7998  Amidst widespread protests, the Jammu election...         1  \n",
       "7999  As PM Modi makes his second visit to Himachal ...         1  "
      ]
     },
     "execution_count": 29,
     "metadata": {},
     "output_type": "execute_result"
    }
   ],
   "source": [
    "combined_df.tail()"
   ]
  },
  {
   "cell_type": "code",
   "execution_count": 30,
   "id": "1494eb92-add6-469e-92b0-75a9d55d429b",
   "metadata": {},
   "outputs": [
    {
     "name": "stdout",
     "output_type": "stream",
     "text": [
      "successfully written to csv\n"
     ]
    }
   ],
   "source": [
    "combined_df.to_csv(r\"C:\\SUDHARSHAN\\Daksh\\tata\\finals/final.csv\")\n",
    "print(\"successfully written to csv\")"
   ]
  },
  {
   "cell_type": "code",
   "execution_count": null,
   "id": "8166417c-d247-4eb0-9e7d-582586907202",
   "metadata": {},
   "outputs": [],
   "source": []
  },
  {
   "cell_type": "code",
   "execution_count": null,
   "id": "5613b038-eb61-4253-8e26-98c5fa978953",
   "metadata": {},
   "outputs": [],
   "source": []
  },
  {
   "cell_type": "code",
   "execution_count": null,
   "id": "a4646de4-654a-4073-b976-279a365031df",
   "metadata": {},
   "outputs": [],
   "source": []
  },
  {
   "cell_type": "code",
   "execution_count": null,
   "id": "492187af-6de7-4646-ab5d-b813ee39fc68",
   "metadata": {},
   "outputs": [],
   "source": []
  },
  {
   "cell_type": "code",
   "execution_count": null,
   "id": "12d1fc01-307a-48ce-9103-12ca5cd5574c",
   "metadata": {},
   "outputs": [],
   "source": []
  },
  {
   "cell_type": "code",
   "execution_count": null,
   "id": "174f9346-3b2a-411b-8604-08760bfc7f40",
   "metadata": {},
   "outputs": [],
   "source": []
  }
 ],
 "metadata": {
  "kernelspec": {
   "display_name": "Python 3 (ipykernel)",
   "language": "python",
   "name": "python3"
  },
  "language_info": {
   "codemirror_mode": {
    "name": "ipython",
    "version": 3
   },
   "file_extension": ".py",
   "mimetype": "text/x-python",
   "name": "python",
   "nbconvert_exporter": "python",
   "pygments_lexer": "ipython3",
   "version": "3.10.10"
  }
 },
 "nbformat": 4,
 "nbformat_minor": 5
}
